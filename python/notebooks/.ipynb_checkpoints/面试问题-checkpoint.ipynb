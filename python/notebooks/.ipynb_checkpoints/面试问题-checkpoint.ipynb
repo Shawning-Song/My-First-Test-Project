{
 "cells": [
  {
   "cell_type": "markdown",
   "metadata": {},
   "source": [
    "### 输入日期，判断这一天是这一年的第几天"
   ]
  },
  {
   "cell_type": "code",
   "execution_count": 1,
   "metadata": {},
   "outputs": [],
   "source": [
    "import datetime\n",
    "\n",
    "def dayofyear():\n",
    "    year = input(\"please input year: \")\n",
    "    month = input(\"please input month: \")\n",
    "    day = input(\"please input day: \")\n",
    "    date1 = datetime.date(year=int(year), month=int(month), day=int(day))\n",
    "    date2 = datetime.date(year=int(year), month=1, day=1)\n",
    "    return (date1-date2).days + 1"
   ]
  },
  {
   "cell_type": "markdown",
   "metadata": {},
   "source": [
    "### 字典排序"
   ]
  },
  {
   "cell_type": "code",
   "execution_count": 2,
   "metadata": {},
   "outputs": [
    {
     "name": "stdout",
     "output_type": "stream",
     "text": [
      "d_key:  [('a', 24), ('b', 100), ('j', 17), ('m', 95)]\n",
      "d_value:  [('j', 17), ('a', 24), ('m', 95), ('b', 100)]\n"
     ]
    }
   ],
   "source": [
    "d = {\"a\": 24, \"j\": 17, \"b\": 100, \"m\": 95}\n",
    "\n",
    "# sorted by key\n",
    "d_key = sorted(d.items(), key=lambda x:x[0])\n",
    "print(\"d_key: \", d_key)\n",
    "\n",
    "# sorted by value\n",
    "d_value = sorted(d.items(), key=lambda x:x[1])\n",
    "print(\"d_value: \", d_value)"
   ]
  },
  {
   "cell_type": "code",
   "execution_count": 3,
   "metadata": {},
   "outputs": [
    {
     "name": "stdout",
     "output_type": "stream",
     "text": [
      "d_value1:  [('a', [10, 20]), ('j', [17, 1]), ('m', [90, 2]), ('b', [100, 50])]\n",
      "d_value2:  [('j', [17, 1]), ('m', [90, 2]), ('a', [10, 20]), ('b', [100, 50])]\n"
     ]
    }
   ],
   "source": [
    "dd = {\"a\":[10,20], \"j\":[17,1], \"b\":[100,50], \"m\":[90,2]}\n",
    "\n",
    "# sorted by value 1\n",
    "d_value1 = sorted(dd.items(), key=lambda x:x[1][0])\n",
    "print(\"d_value1: \", d_value1)\n",
    "\n",
    "# sorted by value 2\n",
    "d_value2 = sorted(dd.items(), key=lambda x:x[1][1])\n",
    "print(\"d_value2: \", d_value2)"
   ]
  },
  {
   "cell_type": "markdown",
   "metadata": {},
   "source": [
    "### 数组元素为字典，按字典中元素排序"
   ]
  },
  {
   "cell_type": "code",
   "execution_count": 4,
   "metadata": {},
   "outputs": [
    {
     "name": "stdout",
     "output_type": "stream",
     "text": [
      "d_age:  [{'name': 'a', 'age': 20}, {'name': 'c', 'age': 25}, {'name': 'b', 'age': 30}]\n",
      "d_age1:  [{'name': 'b', 'age': 30}, {'name': 'c', 'age': 25}, {'name': 'a', 'age': 20}]\n"
     ]
    }
   ],
   "source": [
    "d = [{'name':'a','age':20},{'name':'b','age':30},{'name':'c','age':25}]\n",
    "\n",
    "# sorted by key_age of element with ascending order\n",
    "d_age = sorted(d, key=lambda x:x[\"age\"])\n",
    "print(\"d_age: \", d_age)\n",
    "\n",
    "# by age with descending order\n",
    "d_age1 = sorted(d, key=lambda x:x[\"age\"], reverse=True)\n",
    "print(\"d_age1: \", d_age1)"
   ]
  },
  {
   "cell_type": "markdown",
   "metadata": {},
   "source": [
    "### 字典推导式"
   ]
  },
  {
   "cell_type": "code",
   "execution_count": 5,
   "metadata": {},
   "outputs": [
    {
     "name": "stdout",
     "output_type": "stream",
     "text": [
      "d:  {'a': 1, 'b': 2, 'c': 3}\n"
     ]
    }
   ],
   "source": [
    "data = [(\"a\", 1), (\"b\", 2), (\"c\", 3)]\n",
    "d = {k:v for k,v in data}\n",
    "print(\"d: \", d)"
   ]
  },
  {
   "cell_type": "markdown",
   "metadata": {},
   "source": [
    "### 恶心的切片"
   ]
  },
  {
   "cell_type": "code",
   "execution_count": 6,
   "metadata": {},
   "outputs": [
    {
     "name": "stdout",
     "output_type": "stream",
     "text": [
      "[]\n"
     ]
    }
   ],
   "source": [
    "a = ['a','b','c','d','e']\n",
    "# 10超过最大索引，但是切片会返回空list\n",
    "print(a[10:])"
   ]
  },
  {
   "cell_type": "code",
   "execution_count": 7,
   "metadata": {},
   "outputs": [
    {
     "name": "stdout",
     "output_type": "stream",
     "text": [
      "list index out of range\n"
     ]
    }
   ],
   "source": [
    "# 按索引访问list元素则会抛出异常\n",
    "try:\n",
    "    a[10]\n",
    "except IndexError as e:\n",
    "    print(e)"
   ]
  },
  {
   "cell_type": "markdown",
   "metadata": {},
   "source": [
    "### 列表生成式"
   ]
  },
  {
   "cell_type": "code",
   "execution_count": 8,
   "metadata": {},
   "outputs": [
    {
     "name": "stdout",
     "output_type": "stream",
     "text": [
      "[0, 1, 4, 9, 16]\n"
     ]
    }
   ],
   "source": [
    "print([x**2 for x in range(5)])"
   ]
  },
  {
   "cell_type": "markdown",
   "metadata": {},
   "source": [
    "### 查找list中相同或者不同的元素，并提取出来"
   ]
  },
  {
   "cell_type": "code",
   "execution_count": 9,
   "metadata": {},
   "outputs": [
    {
     "name": "stdout",
     "output_type": "stream",
     "text": [
      "same:  {3, 4}\n",
      "diff:  {1, 2, 5, 6}\n"
     ]
    }
   ],
   "source": [
    "list1 = [1,2,3,4]\n",
    "list2 = [3,4,5,6]\n",
    "set1 = set(list1)\n",
    "set2 = set(list2)\n",
    "\n",
    "print(\"same: \", set1&set2)\n",
    "print(\"diff: \", set1^set2)"
   ]
  },
  {
   "cell_type": "markdown",
   "metadata": {},
   "source": [
    "### 删除list中的重复元素"
   ]
  },
  {
   "cell_type": "code",
   "execution_count": 10,
   "metadata": {},
   "outputs": [],
   "source": [
    "l1 = ['b','c','d','c','a','a']"
   ]
  },
  {
   "cell_type": "code",
   "execution_count": 11,
   "metadata": {},
   "outputs": [
    {
     "name": "stdout",
     "output_type": "stream",
     "text": [
      "['d', 'c', 'b', 'a']\n"
     ]
    }
   ],
   "source": [
    "# 直接使用set删除重复元素\n",
    "l2 = list(set(l1))\n",
    "print(l2)"
   ]
  },
  {
   "cell_type": "code",
   "execution_count": 12,
   "metadata": {},
   "outputs": [
    {
     "name": "stdout",
     "output_type": "stream",
     "text": [
      "['b', 'c', 'd', 'a']\n"
     ]
    }
   ],
   "source": [
    "# l2中的元素顺序发生了变化，使用l1的index进行排序\n",
    "l2.sort(key=l1.index)\n",
    "print(l2)"
   ]
  },
  {
   "cell_type": "code",
   "execution_count": 13,
   "metadata": {
    "scrolled": true
   },
   "outputs": [
    {
     "name": "stdout",
     "output_type": "stream",
     "text": [
      "['b', 'c', 'd', 'a']\n"
     ]
    }
   ],
   "source": [
    "# 效果同上\n",
    "l2 = sorted(set(l1), key=l1.index)\n",
    "print(l2)"
   ]
  },
  {
   "cell_type": "markdown",
   "metadata": {},
   "source": [
    "### \\__new__(self, *args, **kwargs)实现"
   ]
  },
  {
   "cell_type": "code",
   "execution_count": 14,
   "metadata": {},
   "outputs": [
    {
     "name": "stdout",
     "output_type": "stream",
     "text": [
      "self:  <class '__main__.ImpleNewFunc'>\n",
      "a:  <__main__.ImpleNewFunc object at 0x0000025742391128>\n"
     ]
    }
   ],
   "source": [
    "class ImpleNewFunc(object):\n",
    "    def __new__(self, *args, **kwargs):\n",
    "        print(\"self: \", self)\n",
    "        a = super(ImpleNewFunc, self).__new__(self, *args, **kwargs)\n",
    "        print(\"a: \", a)\n",
    "        return a\n",
    "    \n",
    "xx = ImpleNewFunc()"
   ]
  },
  {
   "cell_type": "markdown",
   "metadata": {},
   "source": [
    "### 字符串反转"
   ]
  },
  {
   "cell_type": "code",
   "execution_count": 15,
   "metadata": {},
   "outputs": [
    {
     "name": "stdout",
     "output_type": "stream",
     "text": [
      "a[::-1]:  gfedcba\n",
      "a[::-2]:  geca\n",
      "a[::-3]:  gda\n"
     ]
    }
   ],
   "source": [
    "a = \"abcdefg\"\n",
    "print(\"a[::-1]: \", a[::-1])\n",
    "print(\"a[::-2]: \", a[::-2])\n",
    "print(\"a[::-3]: \", a[::-3])"
   ]
  },
  {
   "cell_type": "markdown",
   "metadata": {},
   "source": [
    "### 目录遍历，解析文件后缀名"
   ]
  },
  {
   "cell_type": "code",
   "execution_count": 16,
   "metadata": {},
   "outputs": [
    {
     "name": "stdout",
     "output_type": "stream",
     "text": [
      ".txt\n",
      ".exe\n",
      ".dll\n",
      ".dat\n",
      ".dll\n",
      ".dll\n",
      ".HTM\n",
      ".exe\n",
      ".htm\n",
      ".htm\n",
      ".htm\n",
      ".htm\n"
     ]
    }
   ],
   "source": [
    "import os\n",
    "\n",
    "for root,dirs,files in os.walk(\"d:/tools/fraps\"):\n",
    "#     print(root, dirs, files)\n",
    "    for filename in files:\n",
    "        _,suf = os.path.splitext(filename)\n",
    "        print(suf)"
   ]
  },
  {
   "cell_type": "markdown",
   "metadata": {},
   "source": [
    "### list遍历过程中删除元素"
   ]
  },
  {
   "cell_type": "markdown",
   "metadata": {},
   "source": [
    "**删除元素5后，索引前移，所以元素6被跳过，因此for in语句中没有访问到该元素**"
   ]
  },
  {
   "cell_type": "code",
   "execution_count": 17,
   "metadata": {},
   "outputs": [
    {
     "name": "stdout",
     "output_type": "stream",
     "text": [
      "old_data:  [1, 2, 3, 4, 5, 6, 2, 3]\n",
      "pick: 1 2 3 4 5 2 3 \n",
      "new_data:  [1, 2, 3, 4, 6, 2, 3]\n"
     ]
    }
   ],
   "source": [
    "a = [1,2,3,4,5,6,2,3]\n",
    "print(\"old_data: \", a)\n",
    "print(\"pick:\", end=\" \")\n",
    "for i in a:\n",
    "    print(i, end=\" \")\n",
    "    if i > 4:\n",
    "        a.remove(i)\n",
    "print(\"\\nnew_data: \", a)"
   ]
  },
  {
   "cell_type": "markdown",
   "metadata": {},
   "source": [
    "**方法一：遍历list的备份**"
   ]
  },
  {
   "cell_type": "code",
   "execution_count": 18,
   "metadata": {},
   "outputs": [
    {
     "name": "stdout",
     "output_type": "stream",
     "text": [
      "old_data:  [1, 2, 3, 4, 5, 6, 2, 3]\n",
      "pick: 1 2 3 4 5 6 2 3 \n",
      "new_data:  [1, 2, 3, 4, 2, 3]\n"
     ]
    }
   ],
   "source": [
    "a = [1,2,3,4,5,6,2,3]\n",
    "print(\"old_data: \", a)\n",
    "print(\"pick:\", end=\" \")\n",
    "for i in a[:]:\n",
    "    print(i, end=\" \")\n",
    "    if i > 4:\n",
    "        a.remove(i)\n",
    "print(\"\\nnew_data: \", a)"
   ]
  },
  {
   "cell_type": "markdown",
   "metadata": {},
   "source": [
    "**方法二： 使用内置遍历函数filter**"
   ]
  },
  {
   "cell_type": "code",
   "execution_count": 19,
   "metadata": {},
   "outputs": [
    {
     "name": "stdout",
     "output_type": "stream",
     "text": [
      "[1, 2, 3, 4, 2, 3]\n"
     ]
    }
   ],
   "source": [
    "a = [1,2,3,4,5,6,2,3]\n",
    "b = filter(lambda x: x<=4, a)\n",
    "print(list(b))"
   ]
  },
  {
   "cell_type": "markdown",
   "metadata": {},
   "source": [
    "**方法三：列表生成式**"
   ]
  },
  {
   "cell_type": "code",
   "execution_count": 20,
   "metadata": {},
   "outputs": [
    {
     "name": "stdout",
     "output_type": "stream",
     "text": [
      "[1, 2, 3, 4, 2, 3]\n"
     ]
    }
   ],
   "source": [
    "a = [1,2,3,4,5,6,2,3]\n",
    "b = [i for i in a if i<=4]\n",
    "print(b)"
   ]
  },
  {
   "cell_type": "markdown",
   "metadata": {},
   "source": [
    "**方法四：删除元素时，索引会前移，因此可以采用倒序方式遍历**"
   ]
  },
  {
   "cell_type": "code",
   "execution_count": 21,
   "metadata": {},
   "outputs": [
    {
     "name": "stdout",
     "output_type": "stream",
     "text": [
      "old_data:  [1, 2, 3, 4, 5, 6, 2, 3]\n",
      "new_data:  [1, 2, 3, 4, 2, 3]\n"
     ]
    }
   ],
   "source": [
    "a = [1,2,3,4,5,6,2,3]\n",
    "print(\"old_data: \", a)\n",
    "for i in range(len(a)-1, -1, -1):\n",
    "    if a[i] > 4:\n",
    "        a.remove(a[i])\n",
    "print(\"new_data: \", a)"
   ]
  },
  {
   "cell_type": "markdown",
   "metadata": {},
   "source": [
    "### 可变类型和不可变类型\n",
    "- 可变类型：list dict\n",
    "- 不可变类型：string number tuple\n",
    "- "
   ]
  },
  {
   "cell_type": "markdown",
   "metadata": {},
   "source": [
    "### 闭包绑定时期\n",
    "- python的闭包是后期绑定"
   ]
  },
  {
   "cell_type": "code",
   "execution_count": 22,
   "metadata": {},
   "outputs": [
    {
     "name": "stdout",
     "output_type": "stream",
     "text": [
      "[9, 9, 9, 9]\n"
     ]
    }
   ],
   "source": [
    "a = [lambda x : i*x for i in range(4)]\n",
    "print([m(3) for m in a])"
   ]
  },
  {
   "cell_type": "markdown",
   "metadata": {},
   "source": [
    "### super()\n",
    "- python2中只有新式类才能使用super，继承object的类就是新式类\n",
    "- python2中调用super的格式为super(class, self).xxx\n",
    "- python3中定义的类都是新式类\n",
    "- python3中直接使用super().xxx即可"
   ]
  },
  {
   "cell_type": "code",
   "execution_count": 2,
   "metadata": {},
   "outputs": [],
   "source": [
    "class A():\n",
    "    def __init__(self):\n",
    "        print(\"A enter\")\n",
    "        print(\"A leave\")\n",
    "        \n",
    "class B(A):\n",
    "    def __init__(self):\n",
    "        print(\"B enter\")\n",
    "        super().__init__()    # python3中super不需要参数了\n",
    "        print(\"B leave\")\n",
    "\n",
    "class C(A):\n",
    "    def __init__(self):\n",
    "        print(\"C enter\")\n",
    "        super().__init__()\n",
    "        print(\"C leave\")\n",
    "    \n",
    "class D(B,C):\n",
    "    def __init__(self):\n",
    "        print(\"D enter\")\n",
    "        super().__init__()\n",
    "        print(\"D leave\")   \n",
    "\n",
    "class E(C,B):\n",
    "    def __init__(self):\n",
    "        print(\"E enter\")\n",
    "        super().__init__()\n",
    "        print(\"E leave\")"
   ]
  },
  {
   "cell_type": "code",
   "execution_count": 6,
   "metadata": {},
   "outputs": [
    {
     "name": "stdout",
     "output_type": "stream",
     "text": [
      "(<class '__main__.D'>, <class '__main__.B'>, <class '__main__.C'>, <class '__main__.A'>, <class 'object'>)\n",
      "D enter\n",
      "B enter\n",
      "C enter\n",
      "A enter\n",
      "A leave\n",
      "C leave\n",
      "B leave\n",
      "D leave\n"
     ]
    },
    {
     "data": {
      "text/plain": [
       "<__main__.D at 0x131d42f2ba8>"
      ]
     },
     "execution_count": 6,
     "metadata": {},
     "output_type": "execute_result"
    }
   ],
   "source": [
    "print(D.__mro__)\n",
    "D()"
   ]
  },
  {
   "cell_type": "code",
   "execution_count": 9,
   "metadata": {},
   "outputs": [
    {
     "name": "stdout",
     "output_type": "stream",
     "text": [
      "(<class '__main__.E'>, <class '__main__.C'>, <class '__main__.B'>, <class '__main__.A'>, <class 'object'>)\n",
      "E enter\n",
      "C enter\n",
      "B enter\n",
      "A enter\n",
      "A leave\n",
      "B leave\n",
      "C leave\n",
      "E leave\n"
     ]
    },
    {
     "data": {
      "text/plain": [
       "<__main__.E at 0x131d4318278>"
      ]
     },
     "execution_count": 9,
     "metadata": {},
     "output_type": "execute_result"
    }
   ],
   "source": [
    "print(E.__mro__)\n",
    "E()"
   ]
  },
  {
   "cell_type": "markdown",
   "metadata": {},
   "source": [
    "### python的垃圾回收机制\n",
    "- 主要 引用计数机制\n",
    "- 辅助 标记清除和分代回收"
   ]
  },
  {
   "cell_type": "markdown",
   "metadata": {},
   "source": [
    "**引用计数机制最主要的问题就是无法搞定对象循环引用**"
   ]
  },
  {
   "cell_type": "code",
   "execution_count": 2,
   "metadata": {},
   "outputs": [
    {
     "name": "stdout",
     "output_type": "stream",
     "text": [
      "ref cnt of aaa:  2\n",
      "ref cnt of bbb:  2\n"
     ]
    }
   ],
   "source": [
    "import sys\n",
    "aaa = { } #对象A的引用计数为 1\n",
    "bbb = { } #对象B的引用计数为 1\n",
    "print(\"ref cnt of aaa: \", sys.getrefcount(aaa))\n",
    "print(\"ref cnt of bbb: \", sys.getrefcount(aaa))\n",
    "# a['b'] = b  #B的引用计数增1\n",
    "# b['a'] = a  #A的引用计数增1\n",
    "# del a #A的引用减 1，最后A对象的引用为 1\n",
    "# del b #B的引用减 1, 最后B对象的引用为 1"
   ]
  },
  {
   "cell_type": "code",
   "execution_count": 2,
   "metadata": {},
   "outputs": [
    {
     "name": "stdout",
     "output_type": "stream",
     "text": [
      "ref cnt of aaa:  3\n",
      "ref cnt of bbb:  3\n"
     ]
    }
   ],
   "source": [
    "aaa[\"b\"]=bbb\n",
    "bbb[\"a\"]=aaa\n",
    "print(\"ref cnt of aaa: \", sys.getrefcount(aaa))\n",
    "print(\"ref cnt of bbb: \", sys.getrefcount(aaa))"
   ]
  },
  {
   "cell_type": "code",
   "execution_count": 3,
   "metadata": {},
   "outputs": [
    {
     "name": "stdout",
     "output_type": "stream",
     "text": [
      "ref cnt of aaa:  4\n",
      "ref cnt of ccc:  4\n"
     ]
    }
   ],
   "source": [
    "ccc=aaa\n",
    "print(\"ref cnt of aaa: \", sys.getrefcount(aaa))\n",
    "print(\"ref cnt of ccc: \", sys.getrefcount(ccc))"
   ]
  },
  {
   "cell_type": "code",
   "execution_count": 4,
   "metadata": {},
   "outputs": [
    {
     "name": "stdout",
     "output_type": "stream",
     "text": [
      "2136537756296 2136537756296\n"
     ]
    }
   ],
   "source": [
    "print(id(aaa), id(ccc))"
   ]
  },
  {
   "cell_type": "code",
   "execution_count": 5,
   "metadata": {},
   "outputs": [
    {
     "name": "stdout",
     "output_type": "stream",
     "text": [
      "ref cnt of ccc:  3\n"
     ]
    }
   ],
   "source": [
    "del aaa\n",
    "print(\"ref cnt of ccc: \", sys.getrefcount(ccc))"
   ]
  },
  {
   "cell_type": "code",
   "execution_count": 3,
   "metadata": {},
   "outputs": [
    {
     "name": "stdout",
     "output_type": "stream",
     "text": [
      "3\n"
     ]
    }
   ],
   "source": [
    "mm=\"asdjf;ajds;kjfsdhgasdkjf;aksdfsdfasdfa\"\n",
    "print(sys.getrefcount(mm))"
   ]
  },
  {
   "cell_type": "markdown",
   "metadata": {},
   "source": [
    "### \\__repr__和\\__str__\n",
    "- \\__repr__\n",
    "    - repr()函数会返回指定该字符串\n",
    "    - 交互式解释器会显示该字符串\n",
    "    - 没有定义__str__时，调用__str__的场景会默认转换为调用该接口\n",
    "    - !r格式化代码指明删除该字符串\n",
    "\n",
    "- \\__str__\n",
    "    - print()和str()使用该字符串"
   ]
  },
  {
   "cell_type": "code",
   "execution_count": 6,
   "metadata": {},
   "outputs": [],
   "source": [
    "class AReprAndStr(object):\n",
    "    def __init__(self):\n",
    "        pass\n",
    "    \n",
    "    def __repr__(self):\n",
    "        return \"__repr__\"\n",
    "    \n",
    "    def __str__(self):\n",
    "        return \"__str__\"\n",
    "    \n",
    "class ARepr(object):\n",
    "    def __init__(self):\n",
    "        pass\n",
    "    \n",
    "    def __repr__(self):\n",
    "        return \"__repr__\"\n",
    "    \n",
    "class AStr(object):\n",
    "    def __init__(self):\n",
    "        pass\n",
    "    \n",
    "    def __str__(self):\n",
    "        return \"__str__\""
   ]
  },
  {
   "cell_type": "code",
   "execution_count": 13,
   "metadata": {},
   "outputs": [
    {
     "name": "stdout",
     "output_type": "stream",
     "text": [
      "----AreprAndStr----\n",
      "repr(a):  __repr__\n",
      "print(a): __str__\n",
      "str(a):  __str__\n"
     ]
    }
   ],
   "source": [
    "print(\"----AreprAndStr----\")\n",
    "a = AReprAndStr()\n",
    "print(\"repr(a): \", repr(a))\n",
    "print(\"print(a): \", end=\"\")\n",
    "print(a)\n",
    "print(\"str(a): \", str(a))"
   ]
  },
  {
   "cell_type": "code",
   "execution_count": null,
   "metadata": {},
   "outputs": [],
   "source": [
    "print(\"----ARepr----\")\n",
    "a = ARepr()\n",
    "print(\"repr(a): \", repr(a))\n",
    "print(\"print(a): \", end=\"\")\n",
    "print(a)\n",
    "print(\"str(a): \", str(a))"
   ]
  },
  {
   "cell_type": "code",
   "execution_count": 15,
   "metadata": {},
   "outputs": [
    {
     "name": "stdout",
     "output_type": "stream",
     "text": [
      "----AStr----\n",
      "repr(a):  <__main__.AStr object at 0x000001F487897908>\n",
      "print(a): __str__\n",
      "str(a):  __str__\n"
     ]
    }
   ],
   "source": [
    "print(\"----AStr----\")\n",
    "a = AStr()\n",
    "print(\"repr(a): \", repr(a))\n",
    "print(\"print(a): \", end=\"\")\n",
    "print(a)\n",
    "print(\"str(a): \", str(a))"
   ]
  },
  {
   "cell_type": "markdown",
   "metadata": {},
   "source": [
    "### 手写判断时间的装饰器"
   ]
  },
  {
   "cell_type": "code",
   "execution_count": 15,
   "metadata": {},
   "outputs": [
    {
     "name": "stdout",
     "output_type": "stream",
     "text": [
      "Hello songxiaoning, 2019 Happy\n"
     ]
    }
   ],
   "source": [
    "import datetime\n",
    "\n",
    "# 定义新的异常类\n",
    "class TimeException(Exception):\n",
    "    def __init__(self, info):\n",
    "        super().__init__()\n",
    "        self.info = info\n",
    "        \n",
    "    def __str__(self):\n",
    "        return self.info\n",
    "    \n",
    "# 定义装饰器函数\n",
    "def timecheck(func):\n",
    "    \n",
    "    def wrapper(*args, **kwargs):\n",
    "        if datetime.datetime.now().year == 2019:\n",
    "            func(*args, **kwargs)\n",
    "        else:\n",
    "            raise TimeException(\"函数过时了\")\n",
    "            \n",
    "    return wrapper\n",
    "\n",
    "# 使用装饰器1\n",
    "@timecheck\n",
    "def test(name):\n",
    "    print(\"Hello {}, 2019 Happy\".format(name))\n",
    "    \n",
    "\n",
    "def test2(name):\n",
    "    print(\"Hello {}, 2019 Happy\".format(name))\n",
    "\n",
    "# 使用装饰器2\n",
    "test2 = timecheck(test2)\n",
    "\n",
    "# test(\"songxiaoning\")\n",
    "test2(\"songxiaoning\")"
   ]
  },
  {
   "cell_type": "markdown",
   "metadata": {},
   "source": [
    "### 多进程"
   ]
  },
  {
   "cell_type": "code",
   "execution_count": 16,
   "metadata": {},
   "outputs": [
    {
     "name": "stdout",
     "output_type": "stream",
     "text": [
      "main process PID:  648\n",
      "main process exit.\n"
     ]
    }
   ],
   "source": [
    "import os\n",
    "from multiprocessing import Process\n",
    "import time\n",
    "def process_func(name:str):\n",
    "    print(\"subprocess running....\")\n",
    "    while True:\n",
    "        print(\"subprocess<{}> pid:{} ppid{}\".format(name, os.getpid(), os.getppid()))\n",
    "        time.sleep(1)\n",
    "        \n",
    "# 打印主进程PID\n",
    "print(\"main process PID: \", os.getpid())\n",
    "\n",
    "# 创建进程对象\n",
    "p = Process(target=process_func, args=(\"test1\",))\n",
    "\n",
    "# 启动进程\n",
    "p.start()\n",
    "\n",
    "# 主进程睡眠\n",
    "time.sleep(5)\n",
    "\n",
    "# 结束子进程\n",
    "p.terminate()\n",
    "p.join()\n",
    "\n",
    "print(\"main process exit.\")"
   ]
  },
  {
   "cell_type": "code",
   "execution_count": null,
   "metadata": {},
   "outputs": [],
   "source": []
  }
 ],
 "metadata": {
  "kernelspec": {
   "display_name": "Python 3",
   "language": "python",
   "name": "python3"
  },
  "language_info": {
   "codemirror_mode": {
    "name": "ipython",
    "version": 3
   },
   "file_extension": ".py",
   "mimetype": "text/x-python",
   "name": "python",
   "nbconvert_exporter": "python",
   "pygments_lexer": "ipython3",
   "version": "3.6.5"
  }
 },
 "nbformat": 4,
 "nbformat_minor": 2
}
